{
 "cells": [
  {
   "cell_type": "code",
   "execution_count": null,
   "id": "539e1f8b-e4ca-4e53-b6b3-78e04686b800",
   "metadata": {},
   "outputs": [],
   "source": [
    "import asyncio  # Импортируем модуль asyncio для асинхронного программирования\n",
    "import time  # Импортируем модуль time для измерения времени выполнения\n",
    "import tracemalloc  # Импортируем модуль tracemalloc для профилирования использования памяти\n",
    "import psutil  # Импортируем модуль psutil для получения информации о системе и процессе\n",
    "\n",
    "\n",
    "# Блокирующая функция для обработки задачи\n",
    "def blocking_task(i):\n",
    "    time.sleep(0.1)  # Блокирующая задержка на 0.1 секунды\n",
    "    return i  # Возвращаем значение i после выполнения задачи\n",
    "\n",
    "\n",
    "# Асинхронная функция для выполнения блокирующих задач\n",
    "async def async_main():\n",
    "    loop = asyncio.get_event_loop()  # Получаем текущий событийный цикл\n",
    "    # Запуск 1000 задач в блокирующем режиме через executor\n",
    "    tasks = [loop.run_in_executor(None, blocking_task, i) for i in range(1000)]\n",
    "    return await asyncio.gather(*tasks)  # Ожидаем завершения всех задач и собираем результаты\n",
    "\n",
    "\n",
    "# Функция для профилирования асинхронного выполнения с блокирующими задачами\n",
    "def profile_asyncio_parallelism():\n",
    "    tracemalloc.start()  # Начинаем профилирование использования памяти\n",
    "\n",
    "    start_time = time.time()  # Фиксируем время начала выполнения\n",
    "    asyncio.run(async_main())  # Запускаем асинхронную функцию с блокирующими задачами\n",
    "    end_time = time.time()  # Фиксируем время завершения выполнения\n",
    "\n",
    "    process = psutil.Process()  # Получаем информацию о текущем процессе\n",
    "    mem_usage = process.memory_info().rss / (1024 * 1024)  # Получаем использование памяти в МБ\n",
    "\n",
    "    print(\"Asyncio (blocking) parallelism time:\", end_time - start_time)  # Выводим время выполнения\n",
    "    print(f\"Memory usage: {mem_usage:.2f} MB\")  # Выводим использование памяти\n",
    "\n",
    "\n",
    "profile_asyncio_parallelism()  # Запускаем функцию профилирования для asyncio\n"
   ]
  },
  {
   "cell_type": "code",
   "execution_count": null,
   "id": "134cb0c4-765f-4fa4-8699-2be32232d8a5",
   "metadata": {},
   "outputs": [],
   "source": [
    "Asyncio (blocking) parallelism time: 3.57\n",
    "Memory usage: 28.22 MB"
   ]
  }
 ],
 "metadata": {
  "kernelspec": {
   "display_name": "Python 3 (ipykernel)",
   "language": "python",
   "name": "python3"
  },
  "language_info": {
   "codemirror_mode": {
    "name": "ipython",
    "version": 3
   },
   "file_extension": ".py",
   "mimetype": "text/x-python",
   "name": "python",
   "nbconvert_exporter": "python",
   "pygments_lexer": "ipython3",
   "version": "3.12.3"
  }
 },
 "nbformat": 4,
 "nbformat_minor": 5
}
