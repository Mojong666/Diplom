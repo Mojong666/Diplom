{
 "cells": [
  {
   "cell_type": "code",
   "execution_count": null,
   "id": "539e1f8b-e4ca-4e53-b6b3-78e04686b800",
   "metadata": {},
   "outputs": [],
   "source": [
    "import threading  # Импортируем модуль threading для многопоточного выполнения\n",
    "import time  # Импортируем модуль time для измерения времени выполнения\n",
    "import tracemalloc  # Импортируем модуль tracemalloc для профилирования использования памяти\n",
    "import psutil  # Импортируем модуль psutil для получения информации о системе и процессе\n",
    "\n",
    "\n",
    "# Функция для обработки задачи\n",
    "def process_task(i):\n",
    "    time.sleep(0.1)  # Блокирующая задержка на 0.1 секунды\n",
    "\n",
    "\n",
    "# Основная функция для выполнения задач с использованием threading\n",
    "def threaded_main():\n",
    "    threads = []  # Список для хранения потоков\n",
    "\n",
    "    for i in range(1000):  # Создаем и запускаем 1000 потоков\n",
    "        thread = threading.Thread(target=process_task, args=(i,))  # Создаем поток для выполнения задачи\n",
    "        threads.append(thread)  # Добавляем поток в список\n",
    "        thread.start()  # Запускаем поток\n",
    "\n",
    "    for thread in threads:  # Ждем завершения всех потоков\n",
    "        thread.join()  # Блокируем выполнение до завершения текущего потока\n",
    "\n",
    "\n",
    "# Функция для профилирования многопоточного выполнения\n",
    "def profile_threading_parallelism():\n",
    "    tracemalloc.start()  # Начинаем профилирование использования памяти\n",
    "\n",
    "    start_time = time.time()  # Фиксируем время начала выполнения\n",
    "    threaded_main()  # Запускаем основную функцию с threading\n",
    "    end_time = time.time()  # Фиксируем время завершения выполнения\n",
    "\n",
    "    process = psutil.Process()  # Получаем информацию о текущем процессе\n",
    "    mem_usage = process.memory_info().rss / (1024 * 1024)  # Получаем использование памяти в МБ\n",
    "\n",
    "    print(\"Threading parallelism time:\", end_time - start_time)  # Выводим время выполнения\n",
    "    print(f\"Memory usage: {mem_usage:.2f} MB\")  # Выводим использование памяти\n",
    "\n",
    "\n",
    "profile_threading_parallelism()  # Запускаем функцию профилирования для threading\n"
   ]
  },
  {
   "cell_type": "code",
   "execution_count": null,
   "id": "134cb0c4-765f-4fa4-8699-2be32232d8a5",
   "metadata": {},
   "outputs": [],
   "source": [
    "Threading parallelism time: 0.54\n",
    "Memory usage: 19.61 MB"
   ]
  }
 ],
 "metadata": {
  "kernelspec": {
   "display_name": "Python 3 (ipykernel)",
   "language": "python",
   "name": "python3"
  },
  "language_info": {
   "codemirror_mode": {
    "name": "ipython",
    "version": 3
   },
   "file_extension": ".py",
   "mimetype": "text/x-python",
   "name": "python",
   "nbconvert_exporter": "python",
   "pygments_lexer": "ipython3",
   "version": "3.12.3"
  }
 },
 "nbformat": 4,
 "nbformat_minor": 5
}
