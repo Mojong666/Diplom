{
 "cells": [
  {
   "cell_type": "code",
   "execution_count": null,
   "id": "539e1f8b-e4ca-4e53-b6b3-78e04686b800",
   "metadata": {},
   "outputs": [],
   "source": [
    "import multiprocessing  # Импортируем модуль multiprocessing для многопроцессорности\n",
    "import requests  # Импортируем модуль requests для HTTP-запросов\n",
    "import time  # Импортируем модуль time для измерения времени выполнения\n",
    "import tracemalloc  # Импортируем модуль tracemalloc для профилирования памяти\n",
    "import psutil  # Импортируем модуль psutil для получения информации о системе\n",
    "import logging  # Импортируем модуль logging для логирования\n",
    "\n",
    "# Настройка логирования\n",
    "logging.basicConfig(level=logging.INFO, format='%(asctime)s - %(levelname)s - %(message)s')\n",
    "\n",
    "\n",
    "# Функция для загрузки данных\n",
    "def fetch(url):\n",
    "    logging.info(f\"Fetching {url}\")\n",
    "    response = requests.get(url)  # Выполняем синхронный GET-запрос\n",
    "    return response.text  # Возвращаем текст ответа\n",
    "\n",
    "\n",
    "# Основная функция с использованием пула процессов\n",
    "def multiprocessing_main(urls):\n",
    "    num_processes = min(50, len(urls))  # Ограничиваем количество процессов\n",
    "    logging.info(f\"Starting multiprocessing with {num_processes} processes\")\n",
    "\n",
    "    with multiprocessing.Pool(processes=num_processes) as pool:  # Используем пул процессов\n",
    "        results = pool.map(fetch, urls)  # pool.map автоматически распределяет задачи между процессами\n",
    "\n",
    "    return results\n",
    "\n",
    "\n",
    "# Функция профилирования\n",
    "def profile_multiprocessing():\n",
    "    urls = [\"https://www.example.com\"] * 100  # Повторяем URL для теста\n",
    "\n",
    "    # Запуск профилирования памяти\n",
    "    tracemalloc.start()\n",
    "\n",
    "    start_time = time.time()  # Начало отсчета времени\n",
    "    results = multiprocessing_main(urls)  # Запуск многопроцессорной функции\n",
    "    end_time = time.time()  # Окончание отсчета времени\n",
    "\n",
    "    process = psutil.Process()  # Получение информации о текущем процессе\n",
    "    mem_usage = process.memory_info().rss / (1024 * 1024)  # Получение использования памяти в МБ\n",
    "\n",
    "    # Логирование времени выполнения и использования памяти\n",
    "    logging.info(f\"Multiprocessing I/O time: {end_time - start_time:.2f} seconds\")\n",
    "    logging.info(f\"Memory usage: {mem_usage:.2f} MB\")\n",
    "\n",
    "\n",
    "if __name__ == '__main__':\n",
    "    profile_multiprocessing()  # Запуск функции профилирования\n",
    "\n"
   ]
  },
  {
   "cell_type": "code",
   "execution_count": null,
   "id": "134cb0c4-765f-4fa4-8699-2be32232d8a5",
   "metadata": {},
   "outputs": [],
   "source": [
    "Multiprocessing I/O time: 6.21 seconds\n",
    "Memory usage: 30.09 MB"
   ]
  }
 ],
 "metadata": {
  "kernelspec": {
   "display_name": "Python 3 (ipykernel)",
   "language": "python",
   "name": "python3"
  },
  "language_info": {
   "codemirror_mode": {
    "name": "ipython",
    "version": 3
   },
   "file_extension": ".py",
   "mimetype": "text/x-python",
   "name": "python",
   "nbconvert_exporter": "python",
   "pygments_lexer": "ipython3",
   "version": "3.12.3"
  }
 },
 "nbformat": 4,
 "nbformat_minor": 5
}
