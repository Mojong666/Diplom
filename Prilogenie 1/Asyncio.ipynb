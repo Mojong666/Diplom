{
 "cells": [
  {
   "cell_type": "code",
   "execution_count": null,
   "id": "539e1f8b-e4ca-4e53-b6b3-78e04686b800",
   "metadata": {},
   "outputs": [],
   "source": [
    "import asyncio  # Импортируем модуль asyncio для асинхронного программирования\n",
    "import aiohttp  # Импортируем модуль aiohttp для асинхронных HTTP-запросов\n",
    "import time  # Импортируем модуль time для измерения времени выполнения\n",
    "import tracemalloc  # Импортируем модуль tracemalloc для профилирования памяти\n",
    "import psutil  # Импортируем модуль psutil для получения информации о системе\n",
    "\n",
    "\n",
    "# Асинхронная функция для загрузки данных\n",
    "async def fetch(url):\n",
    "    async with aiohttp.ClientSession() as session:  # Создаем асинхронную сессию HTTP\n",
    "        async with session.get(url) as response:  # Выполняем асинхронный GET-запрос\n",
    "            return await response.text()  # Возвращаем текст ответа\n",
    "\n",
    "\n",
    "# Основная асинхронная функция\n",
    "async def async_main(urls):\n",
    "    tasks = [fetch(url) for url in urls]  # Создаем список задач для загрузки данных\n",
    "    return await asyncio.gather(*tasks)  # Запускаем все задачи параллельно и ждем их завершения\n",
    "\n",
    "\n",
    "# Функция для профилирования выполнения\n",
    "def profile_asyncio():\n",
    "    urls = [\"https://www.example.com\"] * 100  # Повторяем URL для теста\n",
    "\n",
    "    # Запуск профилирования памяти\n",
    "    tracemalloc.start()\n",
    "\n",
    "    start_time = time.time()  # Начало отсчета времени\n",
    "    asyncio.run(async_main(urls))  # Запуск асинхронной функции\n",
    "    end_time = time.time()  # Окончание отсчета времени\n",
    "\n",
    "    process = psutil.Process()  # Получение информации о текущем процессе\n",
    "    mem_usage = process.memory_info().rss / (1024 * 1024)  # Получение использования памяти в МБ\n",
    "\n",
    "    print(\"Asyncio I/O time:\", end_time - start_time)  # Вывод времени выполнения\n",
    "    print(f\"Memory usage: {mem_usage:.2f} MB\")  # Вывод использования памяти\n",
    "\n",
    "\n",
    "profile_asyncio()  # Запуск функции профилирования\n"
   ]
  },
  {
   "cell_type": "code",
   "execution_count": null,
   "id": "134cb0c4-765f-4fa4-8699-2be32232d8a5",
   "metadata": {},
   "outputs": [],
   "source": [
    "Asyncio I/O time: 1.1160659790039062\n",
    "Memory usage: 67.39 MB"
   ]
  }
 ],
 "metadata": {
  "kernelspec": {
   "display_name": "Python 3 (ipykernel)",
   "language": "python",
   "name": "python3"
  },
  "language_info": {
   "codemirror_mode": {
    "name": "ipython",
    "version": 3
   },
   "file_extension": ".py",
   "mimetype": "text/x-python",
   "name": "python",
   "nbconvert_exporter": "python",
   "pygments_lexer": "ipython3",
   "version": "3.12.3"
  }
 },
 "nbformat": 4,
 "nbformat_minor": 5
}
