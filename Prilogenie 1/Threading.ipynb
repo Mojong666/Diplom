{
 "cells": [
  {
   "cell_type": "code",
   "execution_count": null,
   "id": "539e1f8b-e4ca-4e53-b6b3-78e04686b800",
   "metadata": {},
   "outputs": [],
   "source": [
    "import threading  # Импортируем модуль threading для многопоточности\n",
    "import requests  # Импортируем модуль requests для HTTP-запросов\n",
    "import time  # Импортируем модуль time для измерения времени выполнения\n",
    "import tracemalloc  # Импортируем модуль tracemalloc для профилирования памяти\n",
    "import psutil  # Импортируем модуль psutil для получения информации о системе\n",
    "\n",
    "\n",
    "# Функция для загрузки данных\n",
    "def fetch(url, results, index):\n",
    "    response = requests.get(url)  # Выполняем синхронный GET-запрос\n",
    "    results[index] = response.text  # Сохраняем текст ответа в список\n",
    "\n",
    "\n",
    "# Основная функция\n",
    "def threaded_main(urls):\n",
    "    results = [None] * len(urls)  # Создаем список для хранения результатов\n",
    "    threads = []  # Список для хранения потоков\n",
    "\n",
    "    for i, url in enumerate(urls):  # Проходим по каждому URL\n",
    "        thread = threading.Thread(target=fetch, args=(url, results, i))  # Создаем поток для выполнения функции\n",
    "        threads.append(thread)  # Добавляем поток в список\n",
    "        thread.start()  # Запускаем поток\n",
    "\n",
    "    for thread in threads:  # Ожидаем завершения всех потоков\n",
    "        thread.join()\n",
    "\n",
    "\n",
    "def profile_threading():\n",
    "    urls = [\"https://www.example.com\"] * 100  # Повторяем URL для теста\n",
    "\n",
    "    # Запуск профилирования памяти\n",
    "    tracemalloc.start()\n",
    "\n",
    "    start_time = time.time()  # Начало отсчета времени\n",
    "    threaded_main(urls)  # Запуск многопоточной функции\n",
    "    end_time = time.time()  # Окончание отсчета времени\n",
    "\n",
    "    process = psutil.Process()  # Получение информации о текущем процессе\n",
    "    mem_usage = process.memory_info().rss / (1024 * 1024)  # Получение использования памяти в МБ\n",
    "\n",
    "    print(\"Threading I/O time:\", end_time - start_time)  # Вывод времени выполнения\n",
    "    print(f\"Memory usage: {mem_usage:.2f} MB\")  # Вывод использования памяти\n",
    "\n",
    "\n",
    "profile_threading()  # Запуск функции профилирования\n"
   ]
  },
  {
   "cell_type": "code",
   "execution_count": null,
   "id": "134cb0c4-765f-4fa4-8699-2be32232d8a5",
   "metadata": {},
   "outputs": [],
   "source": [
    "Threading I/O time: 3.13\n",
    "Memory usage: 37.47 MB"
   ]
  }
 ],
 "metadata": {
  "kernelspec": {
   "display_name": "Python 3 (ipykernel)",
   "language": "python",
   "name": "python3"
  },
  "language_info": {
   "codemirror_mode": {
    "name": "ipython",
    "version": 3
   },
   "file_extension": ".py",
   "mimetype": "text/x-python",
   "name": "python",
   "nbconvert_exporter": "python",
   "pygments_lexer": "ipython3",
   "version": "3.12.3"
  }
 },
 "nbformat": 4,
 "nbformat_minor": 5
}
