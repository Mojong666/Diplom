{
 "cells": [
  {
   "cell_type": "code",
   "execution_count": null,
   "id": "539e1f8b-e4ca-4e53-b6b3-78e04686b800",
   "metadata": {},
   "outputs": [],
   "source": [
    "import threading  # Импортируем модуль threading для многопоточности\n",
    "import time  # Импортируем модуль time для измерения времени выполнения\n",
    "import tracemalloc  # Импортируем модуль tracemalloc для профилирования памяти\n",
    "import psutil  # Импортируем модуль psutil для получения информации о системе\n",
    "\n",
    "\n",
    "# Функция для вычисления числа Фибоначчи\n",
    "def fibonacci(n):\n",
    "    if n <= 1:\n",
    "        return n\n",
    "    else:\n",
    "        return fibonacci(n - 1) + fibonacci(n - 2)\n",
    "\n",
    "\n",
    "# Функция для выполнения вычислений в потоке\n",
    "def threaded_fibonacci(n, results, index):\n",
    "    results[index] = fibonacci(n)  # Выполняем вычисление и сохраняем результат\n",
    "\n",
    "\n",
    "# Основная функция\n",
    "def threaded_main():\n",
    "    numbers = [30, 32, 34]  # Список чисел для вычисления\n",
    "    results = [None] * len(numbers)  # Создаем список для хранения результатов\n",
    "    threads = []  # Список для хранения потоков\n",
    "\n",
    "    for i, number in enumerate(numbers):  # Проходим по каждому числу\n",
    "        thread = threading.Thread(target=threaded_fibonacci,\n",
    "                                  args=(number, results, i))  # Создаем поток для выполнения функции\n",
    "        threads.append(thread)  # Добавляем поток в список\n",
    "        thread.start()  # Запускаем поток\n",
    "\n",
    "    for thread in threads:  # Ожидаем завершения всех потоков\n",
    "        thread.join()\n",
    "\n",
    "\n",
    "def profile_threading_computation():\n",
    "    # Запуск профилирования памяти\n",
    "    tracemalloc.start()\n",
    "\n",
    "    start_time = time.time()  # Начало отсчета времени\n",
    "    threaded_main()  # Запуск многопоточной функции\n",
    "    end_time = time.time()  # Окончание отсчета времени\n",
    "\n",
    "    process = psutil.Process()  # Получение информации о текущем процессе\n",
    "    mem_usage = process.memory_info().rss / (1024 * 1024)  # Получение использования памяти в МБ\n",
    "\n",
    "    print(\"Threading computation time:\", end_time - start_time)  # Вывод времени выполнения\n",
    "    print(f\"Memory usage: {mem_usage:.2f} MB\")  # Вывод использования памяти\n",
    "\n",
    "\n",
    "profile_threading_computation()  # Запуск функции профилирования\n",
    "\n"
   ]
  },
  {
   "cell_type": "code",
   "execution_count": null,
   "id": "134cb0c4-765f-4fa4-8699-2be32232d8a5",
   "metadata": {},
   "outputs": [],
   "source": [
    "Threading computation time: 2.48\n",
    "Memory usage: 15.27 MB"
   ]
  }
 ],
 "metadata": {
  "kernelspec": {
   "display_name": "Python 3 (ipykernel)",
   "language": "python",
   "name": "python3"
  },
  "language_info": {
   "codemirror_mode": {
    "name": "ipython",
    "version": 3
   },
   "file_extension": ".py",
   "mimetype": "text/x-python",
   "name": "python",
   "nbconvert_exporter": "python",
   "pygments_lexer": "ipython3",
   "version": "3.12.3"
  }
 },
 "nbformat": 4,
 "nbformat_minor": 5
}
