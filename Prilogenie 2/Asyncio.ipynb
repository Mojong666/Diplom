{
 "cells": [
  {
   "cell_type": "code",
   "execution_count": null,
   "id": "539e1f8b-e4ca-4e53-b6b3-78e04686b800",
   "metadata": {},
   "outputs": [],
   "source": [
    "import asyncio  # Импортируем модуль asyncio для асинхронного программирования\n",
    "import time  # Импортируем модуль time для измерения времени выполнения\n",
    "import tracemalloc  # Импортируем модуль tracemalloc для профилирования памяти\n",
    "import psutil  # Импортируем модуль psutil для получения информации о системе\n",
    "\n",
    "\n",
    "# Функция для вычисления числа Фибоначчи\n",
    "def fibonacci(n):\n",
    "    if n <= 1:\n",
    "        return n\n",
    "    else:\n",
    "        return fibonacci(n - 1) + fibonacci(n - 2)\n",
    "\n",
    "\n",
    "# Асинхронная функция для выполнения вычислений\n",
    "async def async_fibonacci(n):\n",
    "    loop = asyncio.get_event_loop()  # Получаем текущий событийный цикл\n",
    "    return await loop.run_in_executor(None, fibonacci, n)  # Выполняем вычисление в отдельном потоке\n",
    "\n",
    "\n",
    "# Основная асинхронная функция\n",
    "async def async_main():\n",
    "    numbers = [30, 32, 34]  # Список чисел для вычисления\n",
    "    tasks = [async_fibonacci(n) for n in numbers]  # Создаем задачи для вычисления\n",
    "    return await asyncio.gather(*tasks)  # Запускаем все задачи параллельно и ждем их завершения\n",
    "\n",
    "\n",
    "def profile_asyncio_computation():\n",
    "    # Запуск профилирования памяти\n",
    "    tracemalloc.start()\n",
    "\n",
    "    start_time = time.time()  # Начало отсчета времени\n",
    "    asyncio.run(async_main())  # Запуск асинхронной функции\n",
    "    end_time = time.time()  # Окончание отсчета времени\n",
    "\n",
    "    process = psutil.Process()  # Получение информации о текущем процессе\n",
    "    mem_usage = process.memory_info().rss / (1024 * 1024)  # Получение использования памяти в МБ\n",
    "\n",
    "    print(\"Asyncio computation time:\", end_time - start_time)  # Вывод времени выполнения\n",
    "    print(f\"Memory usage: {mem_usage:.2f} MB\")  # Вывод использования памяти\n",
    "\n",
    "\n",
    "profile_asyncio_computation()  # Запуск функции профилирования\n"
   ]
  },
  {
   "cell_type": "code",
   "execution_count": null,
   "id": "134cb0c4-765f-4fa4-8699-2be32232d8a5",
   "metadata": {},
   "outputs": [],
   "source": [
    "Asyncio computation time: 2.61\n",
    "Memory usage: 21.80 MB"
   ]
  }
 ],
 "metadata": {
  "kernelspec": {
   "display_name": "Python 3 (ipykernel)",
   "language": "python",
   "name": "python3"
  },
  "language_info": {
   "codemirror_mode": {
    "name": "ipython",
    "version": 3
   },
   "file_extension": ".py",
   "mimetype": "text/x-python",
   "name": "python",
   "nbconvert_exporter": "python",
   "pygments_lexer": "ipython3",
   "version": "3.12.3"
  }
 },
 "nbformat": 4,
 "nbformat_minor": 5
}
