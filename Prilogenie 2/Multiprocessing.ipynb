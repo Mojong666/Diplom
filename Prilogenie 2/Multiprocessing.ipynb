{
 "cells": [
  {
   "cell_type": "code",
   "execution_count": null,
   "id": "539e1f8b-e4ca-4e53-b6b3-78e04686b800",
   "metadata": {},
   "outputs": [],
   "source": [
    "import multiprocessing  # Импортируем модуль для создания и управления параллельными процессами\n",
    "import time  # Импортируем модуль для работы с временем \n",
    "import tracemalloc  # Импортируем модуль для отслеживания использования памяти (профилирования)\n",
    "import psutil  # Импортируем модуль для получения информации о процессах и использовании ресурсов системы\n",
    "\n",
    "\n",
    "def fibonacci(n):\n",
    "    if n <= 1:  # Если n равно 0 или 1, функция возвращает n (базовые случаи)\n",
    "        return n\n",
    "    else:  # Для всех других значений n функция рекурсивно вычисляет сумму двух предыдущих чисел Фибоначчи\n",
    "        return fibonacci(n - 1) + fibonacci(n - 2)\n",
    "\n",
    "\n",
    "def worker(n, queue):\n",
    "    result = fibonacci(n)  # Вычисляем число Фибоначчи для n\n",
    "    queue.put(result)  # Помещаем результат в очередь для передачи данных между процессами\n",
    "\n",
    "\n",
    "def multiprocessing_main():\n",
    "    numbers = [30, 32, 34]  # Задаем список чисел, для которых нужно вычислить числа Фибоначчи\n",
    "    queue = multiprocessing.Queue()  # Создаем очередь для межпроцессной коммуникации\n",
    "    processes = []  # Создаем список для хранения процессов\n",
    "\n",
    "    for number in numbers:  # Для каждого числа в списке\n",
    "        process = multiprocessing.Process(target=worker,\n",
    "                                          args=(number, queue))  # Создаем новый процесс для вычисления числа Фибоначчи\n",
    "        processes.append(process)  # Добавляем процесс в список\n",
    "        process.start()  # Запускаем процесс\n",
    "\n",
    "    for process in processes:  # Ожидаем завершения всех процессов\n",
    "        process.join()\n",
    "\n",
    "    results = [queue.get() for _ in range(len(numbers))]  # Извлекаем результаты из очереди\n",
    "    return results  # Возвращаем результаты вычислений\n",
    "\n",
    "\n",
    "def profile_multiprocessing_computation():\n",
    "    tracemalloc.start()  # Запускаем профилирование использования памяти\n",
    "\n",
    "    start_time = time.time()  # Сохраняем текущее время перед началом вычислений\n",
    "    multiprocessing_main()  # Запускаем основную функцию с параллельными вычислениями\n",
    "    end_time = time.time()  # Сохраняем время после завершения вычислений\n",
    "\n",
    "    process = psutil.Process()  # Получаем информацию о текущем процессе\n",
    "    mem_usage = process.memory_info().rss / (1024 * 1024)  # Получаем использование памяти в мегабайтах\n",
    "\n",
    "    print(\"Multiprocessing computation time:\", end_time - start_time)  # Выводим время выполнения\n",
    "    print(f\"Memory usage: {mem_usage:.2f} MB\")  # Выводим использование памяти\n",
    "\n",
    "\n",
    "if __name__ == '__main__':\n",
    "    profile_multiprocessing_computation()  # Запускаем функцию профилирования при запуске программы\n"
   ]
  },
  {
   "cell_type": "code",
   "execution_count": null,
   "id": "134cb0c4-765f-4fa4-8699-2be32232d8a5",
   "metadata": {},
   "outputs": [],
   "source": [
    "Multiprocessing computation time: 1.62\n",
    "Memory usage: 17.11 MB"
   ]
  }
 ],
 "metadata": {
  "kernelspec": {
   "display_name": "Python 3 (ipykernel)",
   "language": "python",
   "name": "python3"
  },
  "language_info": {
   "codemirror_mode": {
    "name": "ipython",
    "version": 3
   },
   "file_extension": ".py",
   "mimetype": "text/x-python",
   "name": "python",
   "nbconvert_exporter": "python",
   "pygments_lexer": "ipython3",
   "version": "3.12.3"
  }
 },
 "nbformat": 4,
 "nbformat_minor": 5
}
